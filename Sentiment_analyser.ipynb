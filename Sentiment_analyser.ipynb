{
 "cells": [
  {
   "cell_type": "markdown",
   "metadata": {},
   "source": [
    "# 1. Install and Import Dependencies"
   ]
  },
  {
   "cell_type": "code",
   "execution_count": 1,
   "metadata": {},
   "outputs": [
    {
     "name": "stdout",
     "output_type": "stream",
     "text": [
      "Looking in links: https://download.pytorch.org/whl/torch_stable.html\n",
      "Collecting torch==1.8.1+cu111\n",
      "  Downloading https://download.pytorch.org/whl/cu111/torch-1.8.1%2Bcu111-cp39-cp39-linux_x86_64.whl (1982.2 MB)\n",
      "\u001b[K     |████████████████████████████████| 1982.2 MB 1.4 kB/s  eta 0:00:01   |▊                               | 48.1 MB 7.7 MB/s eta 0:04:13     |█▌                              | 93.9 MB 22.5 MB/s eta 0:01:24     |██▋                             | 163.6 MB 26.9 MB/s eta 0:01:08     |██▉                             | 173.7 MB 26.8 MB/s eta 0:01:08     |███▋                            | 223.4 MB 25.0 MB/s eta 0:01:11     |████                            | 251.9 MB 14.9 MB/s eta 0:01:56     |████▉                           | 300.0 MB 26.3 MB/s eta 0:01:04     |█████                           | 305.7 MB 26.3 MB/s eta 0:01:04     |█████▌                          | 343.9 MB 23.1 MB/s eta 0:01:11     |█████▊                          | 351.5 MB 23.1 MB/s eta 0:01:11     |██████                          | 376.4 MB 4.2 MB/s eta 0:06:21     |██████                          | 377.7 MB 4.2 MB/s eta 0:06:21     |██████▏                         | 384.1 MB 25.3 MB/s eta 0:01:04     |██████▎                         | 391.7 MB 25.3 MB/s eta 0:01:03     |██████▋                         | 406.7 MB 23.2 MB/s eta 0:01:09     |██████▊                         | 415.4 MB 23.2 MB/s eta 0:01:08     |██████▊                         | 417.4 MB 23.2 MB/s eta 0:01:08     |██████▉                         | 422.4 MB 23.2 MB/s eta 0:01:08     |███████▍                        | 454.7 MB 5.2 MB/s eta 0:04:54     |███████▍                        | 460.2 MB 5.2 MB/s eta 0:04:53     |███████▌                        | 462.7 MB 5.2 MB/s eta 0:04:52     |███████▋                        | 469.7 MB 17.3 MB/s eta 0:01:28     |███████▊                        | 479.3 MB 17.3 MB/s eta 0:01:27     |███████▉                        | 484.3 MB 17.3 MB/s eta 0:01:27     |████████▋                       | 535.0 MB 22.7 MB/s eta 0:01:04     |█████████▎                      | 575.2 MB 23.3 MB/s eta 0:01:01     |█████████▍                      | 581.3 MB 26.5 MB/s eta 0:00:53     |█████████▊                      | 599.8 MB 22.4 MB/s eta 0:01:02     |█████████▊                      | 602.4 MB 22.4 MB/s eta 0:01:02     |██████████                      | 613.7 MB 22.4 MB/s eta 0:01:01     |██████████                      | 615.8 MB 22.4 MB/s eta 0:01:01     |██████████                      | 618.4 MB 22.4 MB/s eta 0:01:01     |██████████                      | 623.9 MB 23.6 MB/s eta 0:00:58     |██████████                      | 625.2 MB 23.6 MB/s eta 0:00:58     |██████████▌                     | 651.4 MB 26.1 MB/s eta 0:00:52     |██████████▋                     | 655.2 MB 26.1 MB/s eta 0:00:51     |██████████▋                     | 660.3 MB 26.1 MB/s eta 0:00:51     |██████████▊                     | 665.5 MB 26.0 MB/s eta 0:00:51     |██████████▉                     | 668.0 MB 26.0 MB/s eta 0:00:51     |███████████▎                    | 696.9 MB 24.6 MB/s eta 0:00:53     |███████████▍                    | 708.1 MB 5.4 MB/s eta 0:03:57     |████████████                    | 749.4 MB 20.5 MB/s eta 0:01:01     |████████████▊                   | 790.9 MB 21.4 MB/s eta 0:00:56     |████████████████                | 995.2 MB 23.1 MB/s eta 0:00:43     |█████████████████▉              | 1101.6 MB 22.8 MB/s eta 0:00:39     |███████████████████▊            | 1222.9 MB 9.8 MB/s eta 0:01:18     |███████████████████▉            | 1227.6 MB 9.8 MB/s eta 0:01:17     |████████████████████            | 1233.8 MB 9.8 MB/s eta 0:01:17     |████████████████████            | 1241.1 MB 9.8 MB/s eta 0:01:16     |████████████████████▍           | 1261.6 MB 28.4 MB/s eta 0:00:26     |█████████████████████           | 1304.2 MB 16.8 MB/s eta 0:00:41     |██████████████████████          | 1361.5 MB 18.7 MB/s eta 0:00:34     |██████████████████████          | 1366.1 MB 18.7 MB/s eta 0:00:33     |██████████████████████▍         | 1387.5 MB 14.5 MB/s eta 0:00:42     |██████████████████████▋         | 1399.6 MB 21.4 MB/s eta 0:00:28     |██████████████████████▊         | 1404.3 MB 21.4 MB/s eta 0:00:27     |██████████████████████▊         | 1406.7 MB 21.4 MB/s eta 0:00:27     |███████████████████████         | 1418.7 MB 10.0 MB/s eta 0:00:57     |███████████████████████▎        | 1442.5 MB 277 kB/s eta 0:32:27     |████████████████████████        | 1479.8 MB 21.6 MB/s eta 0:00:24     |████████████████████████        | 1488.4 MB 21.6 MB/s eta 0:00:23     |█████████████████████████       | 1546.5 MB 17.3 MB/s eta 0:00:26     |█████████████████████████▋      | 1585.9 MB 38.2 MB/s eta 0:00:11     |█████████████████████████▉      | 1597.4 MB 16.6 MB/s eta 0:00:24     |██████████████████████████▏     | 1618.2 MB 8.1 MB/s eta 0:00:45     |██████████████████████████▊     | 1655.3 MB 18.1 MB/s eta 0:00:19     |███████████████████████████     | 1675.8 MB 19.0 MB/s eta 0:00:17     |███████████████████████████▎    | 1688.0 MB 19.0 MB/s eta 0:00:16     |███████████████████████████▎    | 1690.5 MB 6.2 MB/s eta 0:00:48     |███████████████████████████▎    | 1691.7 MB 6.2 MB/s eta 0:00:48     |██████████████████████████████  | 1865.0 MB 25.6 MB/s eta 0:00:05     |██████████████████████████████▏ | 1867.4 MB 25.6 MB/s eta 0:00:05     |██████████████████████████████▍ | 1879.1 MB 33.6 MB/s eta 0:00:04     |███████████████████████████████▊| 1963.2 MB 26.6 MB/s eta 0:00:01\n",
      "\u001b[?25hCollecting torchvision==0.9.1+cu111\n",
      "  Downloading https://download.pytorch.org/whl/cu111/torchvision-0.9.1%2Bcu111-cp39-cp39-linux_x86_64.whl (17.6 MB)\n",
      "\u001b[K     |████████████████████████████████| 17.6 MB 12.0 MB/s eta 0:00:01   |██▍                             | 1.3 MB 277 kB/s eta 0:00:59     |███▋                            | 2.0 MB 277 kB/s eta 0:00:57     |█████▍                          | 2.9 MB 277 kB/s eta 0:00:53     |█████████▏                      | 5.0 MB 12.0 MB/s eta 0:00:02     |█████████████████████▎          | 11.7 MB 12.0 MB/s eta 0:00:01\n",
      "\u001b[?25hCollecting torchaudio===0.8.1\n",
      "  Downloading torchaudio-0.8.1-cp39-cp39-manylinux1_x86_64.whl (1.9 MB)\n",
      "\u001b[K     |████████████████████████████████| 1.9 MB 12.5 MB/s eta 0:00:01\n",
      "\u001b[?25hRequirement already satisfied: numpy in /usr/local/lib/python3.9/dist-packages (from torch==1.8.1+cu111) (1.24.1)\n",
      "Collecting typing-extensions\n",
      "  Downloading typing_extensions-4.7.0-py3-none-any.whl (33 kB)\n",
      "Requirement already satisfied: pillow>=4.1.1 in /usr/local/lib/python3.9/dist-packages (from torchvision==0.9.1+cu111) (9.4.0)\n",
      "Installing collected packages: typing-extensions, torch, torchvision, torchaudio\n",
      "\u001b[33m  WARNING: The scripts convert-caffe2-to-onnx and convert-onnx-to-caffe2 are installed in '/home/btech/ee21b015/.local/bin' which is not on PATH.\n",
      "  Consider adding this directory to PATH or, if you prefer to suppress this warning, use --no-warn-script-location.\u001b[0m\n",
      "Successfully installed torch-1.8.1+cu111 torchaudio-0.8.1 torchvision-0.9.1+cu111 typing-extensions-4.7.0\n",
      "Note: you may need to restart the kernel to use updated packages.\n"
     ]
    }
   ],
   "source": [
    "%pip install torch==1.8.1+cu111 torchvision==0.9.1+cu111 torchaudio===0.8.1 -f https://download.pytorch.org/whl/torch_stable.html"
   ]
  },
  {
   "cell_type": "code",
   "execution_count": 2,
   "metadata": {},
   "outputs": [
    {
     "name": "stdout",
     "output_type": "stream",
     "text": [
      "Collecting transformers\n",
      "  Downloading transformers-4.30.2-py3-none-any.whl (7.2 MB)\n",
      "\u001b[K     |████████████████████████████████| 7.2 MB 2.4 MB/s eta 0:00:01\n",
      "\u001b[?25hRequirement already satisfied: requests in /usr/local/lib/python3.9/dist-packages (2.28.2)\n",
      "Requirement already satisfied: beautifulsoup4 in /usr/local/lib/python3.9/dist-packages (4.11.1)\n",
      "Collecting pandas\n",
      "  Downloading pandas-2.0.3-cp39-cp39-manylinux_2_17_x86_64.manylinux2014_x86_64.whl (12.4 MB)\n",
      "\u001b[K     |████████████████████████████████| 12.4 MB 27.4 MB/s eta 0:00:01\n",
      "\u001b[?25hRequirement already satisfied: numpy in /usr/local/lib/python3.9/dist-packages (1.24.1)\n",
      "Requirement already satisfied: soupsieve>1.2 in /usr/local/lib/python3.9/dist-packages (from beautifulsoup4) (2.3.2.post1)\n",
      "Requirement already satisfied: python-dateutil>=2.8.2 in /usr/local/lib/python3.9/dist-packages (from pandas) (2.8.2)\n",
      "Requirement already satisfied: pytz>=2020.1 in /usr/local/lib/python3.9/dist-packages (from pandas) (2022.7.1)\n",
      "Collecting tzdata>=2022.1\n",
      "  Downloading tzdata-2023.3-py2.py3-none-any.whl (341 kB)\n",
      "\u001b[K     |████████████████████████████████| 341 kB 27.5 MB/s eta 0:00:01\n",
      "\u001b[?25hRequirement already satisfied: six>=1.5 in /usr/lib/python3/dist-packages (from python-dateutil>=2.8.2->pandas) (1.16.0)\n",
      "Requirement already satisfied: charset-normalizer<4,>=2 in /usr/local/lib/python3.9/dist-packages (from requests) (3.0.1)\n",
      "Requirement already satisfied: certifi>=2017.4.17 in /usr/lib/python3/dist-packages (from requests) (2020.6.20)\n",
      "Requirement already satisfied: urllib3<1.27,>=1.21.1 in /usr/lib/python3/dist-packages (from requests) (1.26.5)\n",
      "Requirement already satisfied: idna<4,>=2.5 in /usr/lib/python3/dist-packages (from requests) (2.10)\n",
      "Requirement already satisfied: pyyaml>=5.1 in /usr/lib/python3/dist-packages (from transformers) (5.3.1)\n",
      "Collecting safetensors>=0.3.1\n",
      "  Downloading safetensors-0.3.1-cp39-cp39-manylinux_2_17_x86_64.manylinux2014_x86_64.whl (1.3 MB)\n",
      "\u001b[K     |████████████████████████████████| 1.3 MB 26.1 MB/s eta 0:00:01\n",
      "\u001b[?25hCollecting huggingface-hub<1.0,>=0.14.1\n",
      "  Downloading huggingface_hub-0.15.1-py3-none-any.whl (236 kB)\n",
      "\u001b[K     |████████████████████████████████| 236 kB 15.3 MB/s eta 0:00:01\n",
      "\u001b[?25hCollecting regex!=2019.12.17\n",
      "  Downloading regex-2023.6.3-cp39-cp39-manylinux_2_17_x86_64.manylinux2014_x86_64.whl (769 kB)\n",
      "\u001b[K     |████████████████████████████████| 769 kB 26.2 MB/s eta 0:00:01\n",
      "\u001b[?25hCollecting filelock\n",
      "  Downloading filelock-3.12.2-py3-none-any.whl (10 kB)\n",
      "Collecting tokenizers!=0.11.3,<0.14,>=0.11.1\n",
      "  Downloading tokenizers-0.13.3-cp39-cp39-manylinux_2_17_x86_64.manylinux2014_x86_64.whl (7.8 MB)\n",
      "\u001b[K     |████████████████████████████████| 7.8 MB 27.6 MB/s eta 0:00:01\n",
      "\u001b[?25hCollecting tqdm>=4.27\n",
      "  Downloading tqdm-4.65.0-py3-none-any.whl (77 kB)\n",
      "\u001b[K     |████████████████████████████████| 77 kB 4.8 MB/s  eta 0:00:01\n",
      "\u001b[?25hRequirement already satisfied: packaging>=20.0 in /usr/local/lib/python3.9/dist-packages (from transformers) (23.0)\n",
      "Collecting fsspec\n",
      "  Downloading fsspec-2023.6.0-py3-none-any.whl (163 kB)\n",
      "\u001b[K     |████████████████████████████████| 163 kB 25.0 MB/s eta 0:00:01\n",
      "\u001b[?25hRequirement already satisfied: typing-extensions>=3.7.4.3 in ./.local/lib/python3.9/site-packages (from huggingface-hub<1.0,>=0.14.1->transformers) (4.7.0)\n",
      "Installing collected packages: tqdm, fsspec, filelock, tzdata, tokenizers, safetensors, regex, huggingface-hub, transformers, pandas\n",
      "\u001b[33m  WARNING: The script tqdm is installed in '/home/btech/ee21b015/.local/bin' which is not on PATH.\n",
      "  Consider adding this directory to PATH or, if you prefer to suppress this warning, use --no-warn-script-location.\u001b[0m\n",
      "\u001b[33m  WARNING: The script huggingface-cli is installed in '/home/btech/ee21b015/.local/bin' which is not on PATH.\n",
      "  Consider adding this directory to PATH or, if you prefer to suppress this warning, use --no-warn-script-location.\u001b[0m\n",
      "\u001b[33m  WARNING: The script transformers-cli is installed in '/home/btech/ee21b015/.local/bin' which is not on PATH.\n",
      "  Consider adding this directory to PATH or, if you prefer to suppress this warning, use --no-warn-script-location.\u001b[0m\n",
      "Successfully installed filelock-3.12.2 fsspec-2023.6.0 huggingface-hub-0.15.1 pandas-2.0.3 regex-2023.6.3 safetensors-0.3.1 tokenizers-0.13.3 tqdm-4.65.0 transformers-4.30.2 tzdata-2023.3\n",
      "Note: you may need to restart the kernel to use updated packages.\n"
     ]
    }
   ],
   "source": [
    "%pip install transformers requests beautifulsoup4 pandas numpy"
   ]
  },
  {
   "cell_type": "code",
   "execution_count": 4,
   "metadata": {},
   "outputs": [
    {
     "name": "stdout",
     "output_type": "stream",
     "text": [
      "Requirement already satisfied: transformers in ./.local/lib/python3.9/site-packages (4.30.2)\n",
      "Requirement already satisfied: safetensors>=0.3.1 in ./.local/lib/python3.9/site-packages (from transformers) (0.3.1)\n",
      "Requirement already satisfied: huggingface-hub<1.0,>=0.14.1 in ./.local/lib/python3.9/site-packages (from transformers) (0.15.1)\n",
      "Requirement already satisfied: requests in /usr/local/lib/python3.9/dist-packages (from transformers) (2.28.2)\n",
      "Requirement already satisfied: pyyaml>=5.1 in /usr/lib/python3/dist-packages (from transformers) (5.3.1)\n",
      "Requirement already satisfied: packaging>=20.0 in /usr/local/lib/python3.9/dist-packages (from transformers) (23.0)\n",
      "Requirement already satisfied: tokenizers!=0.11.3,<0.14,>=0.11.1 in ./.local/lib/python3.9/site-packages (from transformers) (0.13.3)\n",
      "Requirement already satisfied: filelock in ./.local/lib/python3.9/site-packages (from transformers) (3.12.2)\n",
      "Requirement already satisfied: numpy>=1.17 in /usr/local/lib/python3.9/dist-packages (from transformers) (1.24.1)\n",
      "Requirement already satisfied: tqdm>=4.27 in ./.local/lib/python3.9/site-packages (from transformers) (4.65.0)\n",
      "Requirement already satisfied: regex!=2019.12.17 in ./.local/lib/python3.9/site-packages (from transformers) (2023.6.3)\n",
      "Requirement already satisfied: typing-extensions>=3.7.4.3 in ./.local/lib/python3.9/site-packages (from huggingface-hub<1.0,>=0.14.1->transformers) (4.7.0)\n",
      "Requirement already satisfied: fsspec in ./.local/lib/python3.9/site-packages (from huggingface-hub<1.0,>=0.14.1->transformers) (2023.6.0)\n",
      "Requirement already satisfied: idna<4,>=2.5 in /usr/lib/python3/dist-packages (from requests->transformers) (2.10)\n",
      "Requirement already satisfied: charset-normalizer<4,>=2 in /usr/local/lib/python3.9/dist-packages (from requests->transformers) (3.0.1)\n",
      "Requirement already satisfied: urllib3<1.27,>=1.21.1 in /usr/lib/python3/dist-packages (from requests->transformers) (1.26.5)\n",
      "Requirement already satisfied: certifi>=2017.4.17 in /usr/lib/python3/dist-packages (from requests->transformers) (2020.6.20)\n",
      "Note: you may need to restart the kernel to use updated packages.\n"
     ]
    }
   ],
   "source": [
    "%pip install transformers"
   ]
  },
  {
   "cell_type": "code",
   "execution_count": 18,
   "metadata": {},
   "outputs": [],
   "source": [
    "from transformers import AutoTokenizer, AutoModelForSequenceClassification\n",
    "import torch\n",
    "import requests\n",
    "from bs4 import BeautifulSoup\n",
    "import re"
   ]
  },
  {
   "cell_type": "markdown",
   "metadata": {},
   "source": [
    "# 2. Instantiate Model"
   ]
  },
  {
   "cell_type": "code",
   "execution_count": 19,
   "metadata": {},
   "outputs": [],
   "source": [
    "tokenizer = AutoTokenizer.from_pretrained('nlptown/bert-base-multilingual-uncased-sentiment')\n",
    "\n",
    "model = AutoModelForSequenceClassification.from_pretrained('nlptown/bert-base-multilingual-uncased-sentiment')"
   ]
  },
  {
   "cell_type": "markdown",
   "metadata": {},
   "source": [
    "# 3. Encode and Calculate Sentiment"
   ]
  },
  {
   "cell_type": "code",
   "execution_count": 28,
   "metadata": {},
   "outputs": [],
   "source": [
    "tokens = tokenizer.encode('Horrible experience would never come back again ever', return_tensors='pt')"
   ]
  },
  {
   "cell_type": "code",
   "execution_count": 29,
   "metadata": {},
   "outputs": [],
   "source": [
    "result = model(tokens)"
   ]
  },
  {
   "cell_type": "code",
   "execution_count": 30,
   "metadata": {},
   "outputs": [
    {
     "data": {
      "text/plain": [
       "tensor([[ 3.9117,  1.7635, -0.3847, -2.4659, -2.1921]],\n",
       "       grad_fn=<AddmmBackward>)"
      ]
     },
     "execution_count": 30,
     "metadata": {},
     "output_type": "execute_result"
    }
   ],
   "source": [
    "result.logits"
   ]
  },
  {
   "cell_type": "code",
   "execution_count": 31,
   "metadata": {},
   "outputs": [
    {
     "data": {
      "text/plain": [
       "1"
      ]
     },
     "execution_count": 31,
     "metadata": {},
     "output_type": "execute_result"
    }
   ],
   "source": [
    "int(torch.argmax(result.logits))+1"
   ]
  },
  {
   "cell_type": "markdown",
   "metadata": {},
   "source": [
    "# 4. Collect Reviews"
   ]
  },
  {
   "cell_type": "code",
   "execution_count": 42,
   "metadata": {},
   "outputs": [],
   "source": [
    "r = requests.get(\"http://www.crossculturerestaurant.com/testimonials.aspx\")\n",
    "soup = BeautifulSoup(r.text, 'html.parser')\n",
    "#regex = re.compile('.*comment.*')\n",
    "results = soup.find_all('div', class_=\"TestimonialText\")\n"
   ]
  },
  {
   "cell_type": "code",
   "execution_count": 46,
   "metadata": {},
   "outputs": [],
   "source": [
    "reviews = [result.text.strip() for result in results]\n"
   ]
  },
  {
   "cell_type": "code",
   "execution_count": 47,
   "metadata": {},
   "outputs": [
    {
     "data": {
      "text/plain": [
       "['I love this northern Indian cuisine. The potato flat bread was spectacular, even turning one of my non- believer friends to the Indian cuisine light side. The samosas are beyond belief delicious, and the sauces that go with them make them perfect. Very good.',\n",
       " 'Lively atmosphere with nice Indian music playing on a decent sound system.  Nice staff and good service.  Food was good and freshly prepared.  Samosas had way too much chili flakes.  I like them with spice but not loads of chili flakes.  Tandori chicken was tasty though hotter in terms of spice than I am used too.  I recommend trying this place especially if you like hot and spicy food.',\n",
       " \"My new favorite Indian place in the area by a wide margin.  I'm still a fan some dishes elsewhere (best veggie samosas: Mehek, best naan: Masala Grill), but overall, this place blows the other guys away.  All of the chicken entrees I've tried have been outstanding, including tikka masala, korma, and cashmere.  The grilled chicken appetizer with onions and peppers (can't recall the name) was amazing. Can't comment on the service or atmosphere, as all but one of my experiences have been take-out, but everyone seems quite friendly, and they have done a good job with the space (which wasn't all that great to begin with). I would probably award 4.5 stars if I could, because the naan is just a tad dry and lacks the chewy, moist center underneath the crisp crust that I like.  Also, the samosas are very good, but I think they are a bit heavy on the spices.  I also got the chicken soup once because I had a cold and needed a backup in case I couldn't stomach the normal fare that the rest of my family wanted.  I suppose it's what you get for ordering chicken soup at an Indian place.\",\n",
       " 'We went to Cross Culture Princeton for dinner and the food was amazingly tasty, I have tried other Indian restaurants in the area but there is no comparison in the taste. The service was outstanding in warm cozy and romantic atmosphere with classical music in the background. We had sizzling Chicken and Lamb kebab for appetizer. We enjoyed the vegetarian and non-vegetarian entree with fresh Tandoori Naan bread and basmati rice. We highly recommend this place to everyone.',\n",
       " \"My family and I have been to Cross Culture twice since it's opening. We have been pleased to find the dishes very good. We have ordered the bhindi masala which was wonderful tasting (although I would have loved more okra), the chicken tandoori, chicken vindaloo, and a vegetarian dish that I have forgotten the name of.\\r\\nWe will definitely be heading there again soon.\",\n",
       " 'Fantastic food! It was very fresh and flavorful. We could tell it was just made for us. A little slow, but worth the wait. Yum!',\n",
       " 'Awesome food , best service and beautiful place!! One of the best Indian restaurant in town!! Go for it!!',\n",
       " 'Best indian food I have had in my life. Great service.',\n",
       " 'Great food, great ambiance, poor service. We were a party of 5. Ordered masala chicken, daal, malai kofta, naan, and roti for main course and ras malai for desert. Food was GREAT, did not have excessive spices or oil and tasted like a home cooked meal. Would absolutely return and recommend this place to my friends.',\n",
       " 'Pleasantly surprised. Loved it the first time and we keep coming back. Food is yummy and servers are very polite. Now that I think about, I think I am going to go there for dinner tonight.\\r\\nLiked: Food, Service, Atmosphere',\n",
       " \"Excellent Indian restaurant. Wonderful flavors across all the dishes I've tried. BYOB.\\r\\nLiked: Food, Service, Atmosphere, Value\",\n",
       " 'HEAVEN \\r\\nLiked: Food, Service, Atmosphere',\n",
       " 'Go here all the time, excellent food and service... A bit high on price though compared to other Indian restaurants in NJ area. Liked: Food, Service, Atmosphere, Value',\n",
       " 'I LOVE THIS PLACE! The food is delicious and the service is amazing',\n",
       " 'I love this restaurant. People say it is expensive, but, my motto is you get what you pay for. I promise after trying this, you will understand the quality is superior. Everytime I order this food it is consistently delicious as well as fresh.',\n",
       " \"Love this little gem tucked away in Princeton Shopping Center, right next to Taste of Mexico. Went there for the first time last night, and will definitely be back. I love Indian food, and have not been able to find a local Indian restaurant that I really like until now. The lamb biryani was delicious, as was the Tandoori chicken. Very excited about this place - the restaurant is well appointed, lighting is subdued and the booths are cozy. The service and food are both excellent. And as a bonus, it's BYO.\",\n",
       " 'Just had a wonderful evening at this five-month-old find.  Mixed grill was generous, delicious, and as well prepared as it was sizzling when it arrived at the table.  Great samosas, Nan bread, and superb eggplant dish.  The service was extremely professional and friendly at the same time.  This is the best, most relaxing spot for Indian cuisine in the Princeton area.  Mmmm.',\n",
       " \"It's a very rare thing to have a good vindaloo in New Jersey. Thank goodness for Cross Culture which brings quality technique and flavors to North Indian fare.\",\n",
       " 'i dont eat indian food much. this was really solid though. could be 5 stars. great option for lunch or dinner.',\n",
       " \"Wow, how am I only the second person to review this place and I don't even live in Princeton?  Cross Culture is apparently a new addition to the Princeton Shopping Center, and I'm super excited about this discovery.  They make some of the best Indian food I've had in awhile.  I went with my family for a pre-Christmas dinner.  There were five of us, so we tried a bunch of different items.  From the appetizer menu: chicken samosas, harabhara kabab, and the panir tikka (OMG amazing!).  For entrees we had: chicken korma (one of my all-time favorites, excellently done), lamb curry, tandoori chicken, bhindi masala (awesome okra dish).  All of it was super yummy and I can't wait to go back!\",\n",
       " 'I have been eating Indian food since 1978 and this is one of the best! Having moved here from the mecca of Indian food, Edison, I was a bit sceptical that this would be an authentic experience.  Was I ever wrong!  This is delicious, fresh Indian cuisine, spiced just right.  We had chicken biryani; the meat was tender and aromatic.  Shrimp karahi was equally delicious, served in a spicy tomato sauce, perfect with basmati rice.  Most restaurants charge for raita but here it was included with our breat order, garlic naan.  Service was informative and prompt, yet we were not rushed.  I give this place a major thumbs up and recommend that  you try it.',\n",
       " 'Yum yum yum\\r\\nSeriously the most refined Indian cuisine I\\'ve had since Manhattan. Multilayered flavours that devote more to artistry than merely heat and garam masala from a jar  (the Indian version of \"Italian seasoning\"); here, each dish has its own distinctive flavor and texture, and idiots like me want to start learning which breads are supposed to accompany which dishes, instead of the usual any bread with any dish simply because we don\\'t know any better. Yes, it\\'s that good.\\r\\n\\r\\nWe had the mixed grill tandoori, lamb saag, pickles, eggplant, the best okra I\\'ve ever had (even later, reheated for breakfast).\\r\\n\\r\\nThere were four of us splitting everything, so I missed what I was told was incredible fish and shrimp from the mixed grill. The chicken was tender, spiced well, and what one wants from a good tandoori. The only doozy was the lamb, which, as tender and juicy as it was, had that livery tinge from steaming.\\r\\n\\r\\nOkra--oh my God good. Or Gods, as it might be. Again tender, separate pieces that were neither tough nor greasy. If you haven\\'t ever had good okra, please try it here (or at a really Southern place fried or stewed with tomatoes). There was texture, the seeds were tender, no woodiness at all. The saag was fine, as in fine dining, finely minced spinach that doesn\\'t get stuck in your teeth and has a layered set of spices that doesn\\'t just burn your mouth or turn your lips yellow. Sublime. I can almost dismiss my desire for heat because the flavours were so good.',\n",
       " \"We had a really good dinner at Cross Cultures.  The restaurant serves food that is both traditional and authentic, yet it's a bit more refined than your typical Indian restaurant.  Our entrees were tasty and prepared with the amount of heat we requested.  The dining area is spotless and tastefully decorated, providing for nice ambiance.  The service was both attentive and friendly. We'll definitely return.\",\n",
       " \"Excellent quality and ambiance. Indian food in Princeton varies a lot and it's difficult to find a consistent experience, even at one restaurant. I hesitate to give a huge, glowing review based on one visit, but if the second visit is anything like the first, I'll go to 5 stars. I had the Cashmere Chicken and my bf had the Chicken Vindaloo and it was all extremely tasty. Pleasant, attentive staff. Loved it!\",\n",
       " \"I'd give this place 4 stars despite the food (though it's delicious).  A clean, well-decorated Indian restaurant is all too rare, at least in my experience.  One with great service is unheard of.  \\r\\nWhile being Indian grants me familiarity with most menu items, I'm used to the staff being of zero help in helping to describe or navigate the menu.  The people here however were happily willing to give advice on everything.\",\n",
       " 'Great food.',\n",
       " 'First try - Brunch!\\r\\nWe had an extremely pleasant brunch/lunch experience.  The menu had some great lunch-only offerings at fabulous prices.  The appetizers were delish (samosas, pakoras), chutneys were up to par, no complaints on the naan or rice, and the meals stood their ground as well.  The service was excellent with attentive and friendly staff.  We walked out happy and full!',\n",
       " 'Great Indian food and nice ambiance.',\n",
       " 'I have been eating Indian food since 1978 and this is one of the best! Having moved here from the mecca of Indian food, Edison, I was a bit sceptical that this would be an authentic experience.  Was I ever wrong!  This is delicious, fresh Indian cuisine, spiced just right.  We had chicken biryani; the meat was tender and aromatic.  Shrimp karahi was equally delicious, served in a spicy tomato sauce, perfect with basmati rice.  Most restaurants charge for raita but here it was included with our breat order, garlic naan.  Service was informative and prompt, yet we were not rushed. I give this place a major thumbs up and recommend that  you try it.']"
      ]
     },
     "execution_count": 47,
     "metadata": {},
     "output_type": "execute_result"
    }
   ],
   "source": [
    "reviews\n"
   ]
  },
  {
   "cell_type": "markdown",
   "metadata": {},
   "source": [
    "# 5. Load Reviews into DataFrame and Score"
   ]
  },
  {
   "cell_type": "code",
   "execution_count": 48,
   "metadata": {},
   "outputs": [],
   "source": [
    "import numpy as np\n",
    "import pandas as pd"
   ]
  },
  {
   "cell_type": "code",
   "execution_count": 49,
   "metadata": {},
   "outputs": [],
   "source": [
    "df = pd.DataFrame(np.array(reviews), columns=['review'])"
   ]
  },
  {
   "cell_type": "code",
   "execution_count": 50,
   "metadata": {},
   "outputs": [
    {
     "data": {
      "text/plain": [
       "'I love this northern Indian cuisine. The potato flat bread was spectacular, even turning one of my non- believer friends to the Indian cuisine light side. The samosas are beyond belief delicious, and the sauces that go with them make them perfect. Very good.'"
      ]
     },
     "execution_count": 50,
     "metadata": {},
     "output_type": "execute_result"
    }
   ],
   "source": [
    "df['review'].iloc[0]"
   ]
  },
  {
   "cell_type": "code",
   "execution_count": 51,
   "metadata": {},
   "outputs": [],
   "source": [
    "def sentiment_score(review):\n",
    "    tokens = tokenizer.encode(review, return_tensors='pt')\n",
    "    result = model(tokens)\n",
    "    return int(torch.argmax(result.logits))+1"
   ]
  },
  {
   "cell_type": "code",
   "execution_count": 52,
   "metadata": {},
   "outputs": [
    {
     "data": {
      "text/plain": [
       "4"
      ]
     },
     "execution_count": 52,
     "metadata": {},
     "output_type": "execute_result"
    }
   ],
   "source": [
    "sentiment_score(df['review'].iloc[1])"
   ]
  },
  {
   "cell_type": "code",
   "execution_count": 53,
   "metadata": {},
   "outputs": [],
   "source": [
    "df['sentiment'] = df['review'].apply(lambda x: sentiment_score(x[:512]))"
   ]
  },
  {
   "cell_type": "code",
   "execution_count": 54,
   "metadata": {},
   "outputs": [
    {
     "data": {
      "text/html": [
       "<div>\n",
       "<style scoped>\n",
       "    .dataframe tbody tr th:only-of-type {\n",
       "        vertical-align: middle;\n",
       "    }\n",
       "\n",
       "    .dataframe tbody tr th {\n",
       "        vertical-align: top;\n",
       "    }\n",
       "\n",
       "    .dataframe thead th {\n",
       "        text-align: right;\n",
       "    }\n",
       "</style>\n",
       "<table border=\"1\" class=\"dataframe\">\n",
       "  <thead>\n",
       "    <tr style=\"text-align: right;\">\n",
       "      <th></th>\n",
       "      <th>review</th>\n",
       "      <th>sentiment</th>\n",
       "    </tr>\n",
       "  </thead>\n",
       "  <tbody>\n",
       "    <tr>\n",
       "      <th>0</th>\n",
       "      <td>I love this northern Indian cuisine. The potat...</td>\n",
       "      <td>5</td>\n",
       "    </tr>\n",
       "    <tr>\n",
       "      <th>1</th>\n",
       "      <td>Lively atmosphere with nice Indian music playi...</td>\n",
       "      <td>4</td>\n",
       "    </tr>\n",
       "    <tr>\n",
       "      <th>2</th>\n",
       "      <td>My new favorite Indian place in the area by a ...</td>\n",
       "      <td>5</td>\n",
       "    </tr>\n",
       "    <tr>\n",
       "      <th>3</th>\n",
       "      <td>We went to Cross Culture Princeton for dinner ...</td>\n",
       "      <td>5</td>\n",
       "    </tr>\n",
       "    <tr>\n",
       "      <th>4</th>\n",
       "      <td>My family and I have been to Cross Culture twi...</td>\n",
       "      <td>4</td>\n",
       "    </tr>\n",
       "    <tr>\n",
       "      <th>5</th>\n",
       "      <td>Fantastic food! It was very fresh and flavorfu...</td>\n",
       "      <td>5</td>\n",
       "    </tr>\n",
       "    <tr>\n",
       "      <th>6</th>\n",
       "      <td>Awesome food , best service and beautiful plac...</td>\n",
       "      <td>5</td>\n",
       "    </tr>\n",
       "    <tr>\n",
       "      <th>7</th>\n",
       "      <td>Best indian food I have had in my life. Great ...</td>\n",
       "      <td>5</td>\n",
       "    </tr>\n",
       "    <tr>\n",
       "      <th>8</th>\n",
       "      <td>Great food, great ambiance, poor service. We w...</td>\n",
       "      <td>1</td>\n",
       "    </tr>\n",
       "    <tr>\n",
       "      <th>9</th>\n",
       "      <td>Pleasantly surprised. Loved it the first time ...</td>\n",
       "      <td>5</td>\n",
       "    </tr>\n",
       "    <tr>\n",
       "      <th>10</th>\n",
       "      <td>Excellent Indian restaurant. Wonderful flavors...</td>\n",
       "      <td>5</td>\n",
       "    </tr>\n",
       "    <tr>\n",
       "      <th>11</th>\n",
       "      <td>HEAVEN \\r\\nLiked: Food, Service, Atmosphere</td>\n",
       "      <td>5</td>\n",
       "    </tr>\n",
       "    <tr>\n",
       "      <th>12</th>\n",
       "      <td>Go here all the time, excellent food and servi...</td>\n",
       "      <td>4</td>\n",
       "    </tr>\n",
       "    <tr>\n",
       "      <th>13</th>\n",
       "      <td>I LOVE THIS PLACE! The food is delicious and t...</td>\n",
       "      <td>5</td>\n",
       "    </tr>\n",
       "    <tr>\n",
       "      <th>14</th>\n",
       "      <td>I love this restaurant. People say it is expen...</td>\n",
       "      <td>5</td>\n",
       "    </tr>\n",
       "    <tr>\n",
       "      <th>15</th>\n",
       "      <td>Love this little gem tucked away in Princeton ...</td>\n",
       "      <td>5</td>\n",
       "    </tr>\n",
       "    <tr>\n",
       "      <th>16</th>\n",
       "      <td>Just had a wonderful evening at this five-mont...</td>\n",
       "      <td>5</td>\n",
       "    </tr>\n",
       "    <tr>\n",
       "      <th>17</th>\n",
       "      <td>It's a very rare thing to have a good vindaloo...</td>\n",
       "      <td>4</td>\n",
       "    </tr>\n",
       "    <tr>\n",
       "      <th>18</th>\n",
       "      <td>i dont eat indian food much. this was really s...</td>\n",
       "      <td>4</td>\n",
       "    </tr>\n",
       "    <tr>\n",
       "      <th>19</th>\n",
       "      <td>Wow, how am I only the second person to review...</td>\n",
       "      <td>5</td>\n",
       "    </tr>\n",
       "    <tr>\n",
       "      <th>20</th>\n",
       "      <td>I have been eating Indian food since 1978 and ...</td>\n",
       "      <td>5</td>\n",
       "    </tr>\n",
       "    <tr>\n",
       "      <th>21</th>\n",
       "      <td>Yum yum yum\\r\\nSeriously the most refined Indi...</td>\n",
       "      <td>5</td>\n",
       "    </tr>\n",
       "    <tr>\n",
       "      <th>22</th>\n",
       "      <td>We had a really good dinner at Cross Cultures....</td>\n",
       "      <td>3</td>\n",
       "    </tr>\n",
       "    <tr>\n",
       "      <th>23</th>\n",
       "      <td>Excellent quality and ambiance. Indian food in...</td>\n",
       "      <td>5</td>\n",
       "    </tr>\n",
       "    <tr>\n",
       "      <th>24</th>\n",
       "      <td>I'd give this place 4 stars despite the food (...</td>\n",
       "      <td>4</td>\n",
       "    </tr>\n",
       "    <tr>\n",
       "      <th>25</th>\n",
       "      <td>Great food.</td>\n",
       "      <td>5</td>\n",
       "    </tr>\n",
       "    <tr>\n",
       "      <th>26</th>\n",
       "      <td>First try - Brunch!\\r\\nWe had an extremely ple...</td>\n",
       "      <td>5</td>\n",
       "    </tr>\n",
       "    <tr>\n",
       "      <th>27</th>\n",
       "      <td>Great Indian food and nice ambiance.</td>\n",
       "      <td>5</td>\n",
       "    </tr>\n",
       "    <tr>\n",
       "      <th>28</th>\n",
       "      <td>I have been eating Indian food since 1978 and ...</td>\n",
       "      <td>5</td>\n",
       "    </tr>\n",
       "  </tbody>\n",
       "</table>\n",
       "</div>"
      ],
      "text/plain": [
       "                                               review  sentiment\n",
       "0   I love this northern Indian cuisine. The potat...          5\n",
       "1   Lively atmosphere with nice Indian music playi...          4\n",
       "2   My new favorite Indian place in the area by a ...          5\n",
       "3   We went to Cross Culture Princeton for dinner ...          5\n",
       "4   My family and I have been to Cross Culture twi...          4\n",
       "5   Fantastic food! It was very fresh and flavorfu...          5\n",
       "6   Awesome food , best service and beautiful plac...          5\n",
       "7   Best indian food I have had in my life. Great ...          5\n",
       "8   Great food, great ambiance, poor service. We w...          1\n",
       "9   Pleasantly surprised. Loved it the first time ...          5\n",
       "10  Excellent Indian restaurant. Wonderful flavors...          5\n",
       "11        HEAVEN \\r\\nLiked: Food, Service, Atmosphere          5\n",
       "12  Go here all the time, excellent food and servi...          4\n",
       "13  I LOVE THIS PLACE! The food is delicious and t...          5\n",
       "14  I love this restaurant. People say it is expen...          5\n",
       "15  Love this little gem tucked away in Princeton ...          5\n",
       "16  Just had a wonderful evening at this five-mont...          5\n",
       "17  It's a very rare thing to have a good vindaloo...          4\n",
       "18  i dont eat indian food much. this was really s...          4\n",
       "19  Wow, how am I only the second person to review...          5\n",
       "20  I have been eating Indian food since 1978 and ...          5\n",
       "21  Yum yum yum\\r\\nSeriously the most refined Indi...          5\n",
       "22  We had a really good dinner at Cross Cultures....          3\n",
       "23  Excellent quality and ambiance. Indian food in...          5\n",
       "24  I'd give this place 4 stars despite the food (...          4\n",
       "25                                        Great food.          5\n",
       "26  First try - Brunch!\\r\\nWe had an extremely ple...          5\n",
       "27               Great Indian food and nice ambiance.          5\n",
       "28  I have been eating Indian food since 1978 and ...          5"
      ]
     },
     "execution_count": 54,
     "metadata": {},
     "output_type": "execute_result"
    }
   ],
   "source": [
    "df"
   ]
  },
  {
   "cell_type": "code",
   "execution_count": 55,
   "metadata": {},
   "outputs": [
    {
     "data": {
      "text/plain": [
       "'We went to Cross Culture Princeton for dinner and the food was amazingly tasty, I have tried other Indian restaurants in the area but there is no comparison in the taste. The service was outstanding in warm cozy and romantic atmosphere with classical music in the background. We had sizzling Chicken and Lamb kebab for appetizer. We enjoyed the vegetarian and non-vegetarian entree with fresh Tandoori Naan bread and basmati rice. We highly recommend this place to everyone.'"
      ]
     },
     "execution_count": 55,
     "metadata": {},
     "output_type": "execute_result"
    }
   ],
   "source": [
    "df['review'].iloc[3]"
   ]
  },
  {
   "cell_type": "code",
   "execution_count": null,
   "metadata": {},
   "outputs": [],
   "source": []
  }
 ],
 "metadata": {
  "kernelspec": {
   "display_name": "Python 3 (ipykernel)",
   "language": "python",
   "name": "python3"
  },
  "language_info": {
   "codemirror_mode": {
    "name": "ipython",
    "version": 3
   },
   "file_extension": ".py",
   "mimetype": "text/x-python",
   "name": "python",
   "nbconvert_exporter": "python",
   "pygments_lexer": "ipython3",
   "version": "3.9.2"
  },
  "vscode": {
   "interpreter": {
    "hash": "31f2aee4e71d21fbe5cf8b01ff0e069b9275f58929596ceb00d14d90e3e16cd6"
   }
  }
 },
 "nbformat": 4,
 "nbformat_minor": 4
}
